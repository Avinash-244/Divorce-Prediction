{
  "nbformat": 4,
  "nbformat_minor": 0,
  "metadata": {
    "colab": {
      "private_outputs": true,
      "provenance": [],
      "authorship_tag": "ABX9TyOZh3/iXl2nQ9/muyPYTIPZ",
      "include_colab_link": true
    },
    "kernelspec": {
      "name": "python3",
      "display_name": "Python 3"
    },
    "language_info": {
      "name": "python"
    }
  },
  "cells": [
    {
      "cell_type": "markdown",
      "metadata": {
        "id": "view-in-github",
        "colab_type": "text"
      },
      "source": [
        "<a href=\"https://colab.research.google.com/github/GaganDdhwaj/Divorce-Prediction/blob/main/Divorce_Prediction.ipynb\" target=\"_parent\"><img src=\"https://colab.research.google.com/assets/colab-badge.svg\" alt=\"Open In Colab\"/></a>"
      ]
    },
    {
      "cell_type": "code",
      "execution_count": null,
      "metadata": {
        "id": "p0k8cWEfAGRm"
      },
      "outputs": [],
      "source": [
        "import pandas as pd\n",
        "import numpy as np\n",
        "\n",
        "import seaborn as sns\n",
        "import matplotlib.pyplot as plt\n",
        "\n",
        "from sklearn.feature_selection import mutual_info_classif\n",
        "from sklearn.model_selection import train_test_split,GridSearchCV,KFold,cross_val_score\n",
        "\n",
        "\n",
        "from sklearn.linear_model import LogisticRegression\n",
        "from sklearn.tree import DecisionTreeClassifier\n",
        "from sklearn.neighbors import KNeighborsClassifier\n",
        "from sklearn.svm import SVC\n",
        "from sklearn.ensemble import RandomForestClassifier"
      ]
    },
    {
      "cell_type": "code",
      "source": [
        "df=pd.read_csv(\"divorce_data.csv\" , delimiter=\";\")"
      ],
      "metadata": {
        "id": "45BLEZ_HALly"
      },
      "execution_count": null,
      "outputs": []
    },
    {
      "cell_type": "code",
      "source": [
        "df.head()"
      ],
      "metadata": {
        "id": "Gi5sqwVuAgYh"
      },
      "execution_count": null,
      "outputs": []
    },
    {
      "cell_type": "code",
      "source": [
        "df.info()"
      ],
      "metadata": {
        "id": "7g304zyeAltJ"
      },
      "execution_count": null,
      "outputs": []
    },
    {
      "cell_type": "code",
      "source": [
        "df.describe()"
      ],
      "metadata": {
        "id": "zyIuOZhOApiu"
      },
      "execution_count": null,
      "outputs": []
    },
    {
      "cell_type": "code",
      "source": [
        "df[\"Q1\"].value_counts()"
      ],
      "metadata": {
        "id": "51kArscQAteB"
      },
      "execution_count": null,
      "outputs": []
    },
    {
      "cell_type": "code",
      "source": [
        "corr = df.corr()['Divorce'].drop('Divorce')\n",
        "sort_corr=corr.abs().sort_values(ascending=False)[:20]\n",
        "sort_corr"
      ],
      "metadata": {
        "id": "1BENp_z_AwpK"
      },
      "execution_count": null,
      "outputs": []
    },
    {
      "cell_type": "code",
      "source": [
        "sns.barplot(x=sort_corr.index, y=sort_corr)\n",
        "plt.xticks(rotation=90)\n",
        "plt.xlabel('Features')\n",
        "plt.ylabel('Absolute Correlation')\n",
        "plt.show()"
      ],
      "metadata": {
        "id": "xA4CLH_rAz3q"
      },
      "execution_count": null,
      "outputs": []
    },
    {
      "cell_type": "code",
      "source": [
        "y = df['Divorce']\n",
        "X = df.drop('Divorce',axis=1)\n",
        "mutual_info_scores = mutual_info_classif(X, y)"
      ],
      "metadata": {
        "id": "1O8ulUv8A3LZ"
      },
      "execution_count": null,
      "outputs": []
    },
    {
      "cell_type": "code",
      "source": [
        "feature_scores_df = pd.DataFrame({'Feature': X.columns, 'Mutual_Info_Score': mutual_info_scores})\n",
        "\n",
        "# Sort the DataFrame by scores in descending order\n",
        "feature_scores_df = feature_scores_df.sort_values(by='Mutual_Info_Score', ascending=False)\n",
        "\n",
        "# print  sorted feature scores\n",
        "feature_scores_df.head()"
      ],
      "metadata": {
        "id": "heeoHjghA7Sx"
      },
      "execution_count": null,
      "outputs": []
    },
    {
      "cell_type": "code",
      "source": [
        "best =feature_scores_df['Feature'][:15]\n",
        "df[best]"
      ],
      "metadata": {
        "id": "QzLLVOxeA-M4"
      },
      "execution_count": null,
      "outputs": []
    },
    {
      "cell_type": "code",
      "source": [
        "mean_0=[]\n",
        "mean_1=[]\n",
        "\n",
        "max_0=[]\n",
        "max_1=[]\n",
        "\n",
        "med_0=[]\n",
        "med_1=[]\n",
        "\n",
        "for i in best.values:\n",
        "    a=df[i][df['Divorce']==0].mean()\n",
        "    mean_0.append(np.round(a,4))\n",
        "\n",
        "    a=df[i][df['Divorce']==1].mean()\n",
        "    mean_1.append(np.round(a,4))\n",
        "\n",
        "    a=df[i][df['Divorce']==0].max()\n",
        "    max_0.append(a)\n",
        "\n",
        "    a=df[i][df['Divorce']==1].max()\n",
        "    max_1.append(a)\n",
        "\n",
        "\n",
        "    a=df[i][df['Divorce']==0].median()\n",
        "    med_0.append(a)\n",
        "\n",
        "    a=df[i][df['Divorce']==1].median()\n",
        "    med_1.append(a)"
      ],
      "metadata": {
        "id": "PtTFo64CBBU4"
      },
      "execution_count": null,
      "outputs": []
    },
    {
      "cell_type": "code",
      "source": [
        "com_best=pd.DataFrame()\n",
        "com_best.index=best.values"
      ],
      "metadata": {
        "id": "Rplwd8bYBIY2"
      },
      "execution_count": null,
      "outputs": []
    },
    {
      "cell_type": "code",
      "source": [
        "com_best[\"mean_0\"]=mean_0\n",
        "com_best[\"mean_1\"]=mean_1\n",
        "\n",
        "com_best[\"max_0\"]=max_0\n",
        "com_best[\"max_1\"]=max_1\n",
        "\n",
        "com_best[\"med_0\"]=med_0\n",
        "com_best[\"med_1\"]=med_1\n",
        "\n",
        "com_best"
      ],
      "metadata": {
        "id": "X0uHaOoXBLyc"
      },
      "execution_count": null,
      "outputs": []
    },
    {
      "cell_type": "code",
      "source": [
        "com_best['mean_1'].plot()\n",
        "com_best['mean_0'].plot()\n",
        "plt.xlabel(\"feature\")\n",
        "plt.ylabel(\"Mean \")\n",
        "plt.show()"
      ],
      "metadata": {
        "id": "VUXl_BeFBNop"
      },
      "execution_count": null,
      "outputs": []
    },
    {
      "cell_type": "code",
      "source": [
        "plt.bar(com_best['med_0']  ,range(len(com_best['med_0']))  )\n",
        "plt.bar(com_best['med_1']  ,range(len(com_best['med_1']))  )\n",
        "\n",
        "plt.xlabel(\"feature\")\n",
        "plt.ylabel(\"median\")\n",
        "plt.show()"
      ],
      "metadata": {
        "id": "YWGnsurdBR-A"
      },
      "execution_count": null,
      "outputs": []
    },
    {
      "cell_type": "code",
      "source": [
        "plt.figure(figsize=(15,15))\n",
        "sns.heatmap(np.abs(df[best].corr()), annot = True  )\n",
        "plt.title (\"Correlation data \"  )\n",
        "plt.show()"
      ],
      "metadata": {
        "id": "7PKJdmpfBVCW"
      },
      "execution_count": null,
      "outputs": []
    },
    {
      "cell_type": "code",
      "source": [
        "X_train ,X_test , y_train , y_test = train_test_split(X[best],y , random_state=33,shuffle=True , test_size=0.5)"
      ],
      "metadata": {
        "id": "9Adwr_EuBY-L"
      },
      "execution_count": null,
      "outputs": []
    },
    {
      "cell_type": "code",
      "source": [
        "model_Log=LogisticRegression()"
      ],
      "metadata": {
        "id": "lQkgT6IiBdXL"
      },
      "execution_count": null,
      "outputs": []
    },
    {
      "cell_type": "code",
      "source": [
        "parameters  = {\n",
        "                 'penalty': ['l1', 'l2', 'elasticnet', 'none'],\n",
        "                'solver': ['saga','newton-cg', 'sgd','adam'],\n",
        "                 'max_iter':[50,100,500,1000]\n",
        "\n",
        "              }\n",
        "logistic_grid = GridSearchCV(model_Log, parameters, cv=5, scoring='accuracy')"
      ],
      "metadata": {
        "id": "X8PTcFefBgdG"
      },
      "execution_count": null,
      "outputs": []
    },
    {
      "cell_type": "code",
      "source": [
        "logistic_grid.fit(X_train,y_train)"
      ],
      "metadata": {
        "id": "laRJbKNcBjdz"
      },
      "execution_count": null,
      "outputs": []
    },
    {
      "cell_type": "code",
      "source": [
        "y_pred=logistic_grid.predict(X_test)"
      ],
      "metadata": {
        "id": "IwvSjekBBpRK"
      },
      "execution_count": null,
      "outputs": []
    },
    {
      "cell_type": "code",
      "source": [
        "logistic_grid.score(X_test, y_test)"
      ],
      "metadata": {
        "id": "v1VW3INABspT"
      },
      "execution_count": null,
      "outputs": []
    },
    {
      "cell_type": "code",
      "source": [
        "models = []\n",
        "models.append(('LogisticRegression', LogisticRegression()))\n",
        "models.append(('SVM', SVC()))\n",
        "models.append(('DecisionTreeClassifier', DecisionTreeClassifier()))\n",
        "models.append(('KNeighborsClassifier', KNeighborsClassifier()))\n",
        "models.append(('KNeighborsClassifier', RandomForestClassifier()))"
      ],
      "metadata": {
        "id": "OCOI-6sHBvdC"
      },
      "execution_count": null,
      "outputs": []
    },
    {
      "cell_type": "code",
      "source": [
        "accuracy_=[]\n",
        "\n",
        "name_col=[]\n",
        "\n",
        "for i in range(len(models)):\n",
        "    kfold = KFold(n_splits=15, shuffle=True, random_state=43)\n",
        "    scor = cross_val_score(models[i][1], X[best], y, cv=kfold,scoring='accuracy')\n",
        "    accuracy_.append(scor.mean())\n",
        "    name_col.append(models[i][0])\n",
        "    print(\"{} : score {:.4f} \".format(models[i][0]  , np.mean(accuracy_)  ))"
      ],
      "metadata": {
        "id": "CKoG54SHByaV"
      },
      "execution_count": null,
      "outputs": []
    },
    {
      "cell_type": "code",
      "source": [
        "index_acc = accuracy_.index(max(accuracy_))"
      ],
      "metadata": {
        "id": "MQTwsLrZB5uk"
      },
      "execution_count": null,
      "outputs": []
    },
    {
      "cell_type": "code",
      "source": [
        "print(f\"best model : {name_col[index_acc]} is score it {max(accuracy_)}\")"
      ],
      "metadata": {
        "id": "yBKMBSt6B8cA"
      },
      "execution_count": null,
      "outputs": []
    }
  ]
}
